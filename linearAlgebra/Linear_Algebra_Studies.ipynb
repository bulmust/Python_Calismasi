{
 "cells": [
  {
   "cell_type": "markdown",
   "id": "424da0bc",
   "metadata": {},
   "source": [
    "## First Question"
   ]
  },
  {
   "cell_type": "code",
   "execution_count": 1,
   "id": "22485ea4",
   "metadata": {},
   "outputs": [
    {
     "name": "stdout",
     "output_type": "stream",
     "text": [
      "Enter number of elements : 2\n",
      "2\n",
      "2\n",
      "2\n",
      "2\n",
      "[[2.0, 2.0], [2.0, 2.0]]\n"
     ]
    }
   ],
   "source": [
    "import numpy as np\n",
    "\n",
    "#create your first matrix\n",
    "\n",
    "lst= [ ] \n",
    "n = int(input(\"Enter number of elements : \")) \n",
    "  \n",
    "for i in range(0,n):\n",
    "    g = [float(input()), float(input())]\n",
    "    lst.append(g)\n",
    "      \n",
    "print(lst)\n",
    "\n",
    "a = np.array(lst)"
   ]
  },
  {
   "cell_type": "code",
   "execution_count": 2,
   "id": "4c841465",
   "metadata": {},
   "outputs": [
    {
     "data": {
      "text/plain": [
       "array([[2., 2.],\n",
       "       [2., 2.]])"
      ]
     },
     "execution_count": 2,
     "metadata": {},
     "output_type": "execute_result"
    }
   ],
   "source": [
    "a\n"
   ]
  },
  {
   "cell_type": "code",
   "execution_count": 3,
   "id": "8eaa0b36",
   "metadata": {},
   "outputs": [
    {
     "name": "stdout",
     "output_type": "stream",
     "text": [
      "Enter number of elements : 2\n",
      "2\n",
      "2\n",
      "3\n",
      "4\n",
      "[[2.0, 2.0], [3.0, 4.0]]\n"
     ]
    }
   ],
   "source": [
    "#create your second matrix\n",
    "\n",
    "lst2= [ ] \n",
    "n = int(input(\"Enter number of elements : \")) \n",
    "  \n",
    "for i in range(0,n):\n",
    "    g = [float(input()), float(input())]\n",
    "    lst2.append(g)\n",
    "    \n",
    "print(lst2)\n",
    "\n",
    "b = np.array(lst2)"
   ]
  },
  {
   "cell_type": "code",
   "execution_count": 4,
   "id": "4d154630",
   "metadata": {},
   "outputs": [
    {
     "data": {
      "text/plain": [
       "array([[2., 2.],\n",
       "       [3., 4.]])"
      ]
     },
     "execution_count": 4,
     "metadata": {},
     "output_type": "execute_result"
    }
   ],
   "source": [
    "b"
   ]
  },
  {
   "cell_type": "code",
   "execution_count": 5,
   "id": "832cb7c5",
   "metadata": {},
   "outputs": [
    {
     "name": "stdout",
     "output_type": "stream",
     "text": [
      "[[10. 12.]\n",
      " [10. 12.]]\n"
     ]
    }
   ],
   "source": [
    "print(np.dot(a, b))"
   ]
  },
  {
   "cell_type": "markdown",
   "id": "12d282a0",
   "metadata": {},
   "source": [
    "## Second Question"
   ]
  },
  {
   "cell_type": "markdown",
   "id": "cd9f7a0d",
   "metadata": {},
   "source": [
    "Inner matrix is what we know as dot product but what exactly is the outer product?\n",
    "\n",
    "suppose you have u =<u1, u2, u3>, v =<v1, v2, v3> dot product of these two would be $  u^T   v$\n",
    "\n",
    "but you might not know is outer product of these two would be $ u    v^T = <[u1*v1,u1*v2,u1*v3];[u2*v1,u2*v2,u2*v3];[u3*v1,u3*v2,u3*v3]> $"
   ]
  },
  {
   "cell_type": "code",
   "execution_count": 18,
   "id": "10e458e5",
   "metadata": {},
   "outputs": [
    {
     "name": "stdout",
     "output_type": "stream",
     "text": [
      "Enter the number of rows:2\n",
      "Enter the number of columns:2\n",
      "Enter the entries in a single line (separated by space): \n",
      "2.0 2.0 2.0 2.0\n"
     ]
    },
    {
     "ename": "ValueError",
     "evalue": "could not convert string to float: '2.0 2.0 2.0 2.0'",
     "output_type": "error",
     "traceback": [
      "\u001b[1;31m---------------------------------------------------------------------------\u001b[0m",
      "\u001b[1;31mValueError\u001b[0m                                Traceback (most recent call last)",
      "\u001b[1;32m~\\AppData\\Local\\Temp/ipykernel_17732/3021655640.py\u001b[0m in \u001b[0;36m<module>\u001b[1;34m\u001b[0m\n\u001b[0;32m      9\u001b[0m \u001b[1;31m# User input of entries in a\u001b[0m\u001b[1;33m\u001b[0m\u001b[1;33m\u001b[0m\u001b[0m\n\u001b[0;32m     10\u001b[0m \u001b[1;31m# single line separated by space\u001b[0m\u001b[1;33m\u001b[0m\u001b[1;33m\u001b[0m\u001b[0m\n\u001b[1;32m---> 11\u001b[1;33m \u001b[0mentries\u001b[0m \u001b[1;33m=\u001b[0m \u001b[1;33m[\u001b[0m\u001b[0mfloat\u001b[0m\u001b[1;33m(\u001b[0m\u001b[0minput\u001b[0m\u001b[1;33m(\u001b[0m\u001b[1;33m)\u001b[0m\u001b[1;33m)\u001b[0m\u001b[1;33m,\u001b[0m \u001b[0mfloat\u001b[0m\u001b[1;33m(\u001b[0m\u001b[0minput\u001b[0m\u001b[1;33m(\u001b[0m\u001b[1;33m)\u001b[0m\u001b[1;33m)\u001b[0m\u001b[1;33m]\u001b[0m\u001b[1;33m\u001b[0m\u001b[1;33m\u001b[0m\u001b[0m\n\u001b[0m\u001b[0;32m     12\u001b[0m \u001b[1;33m\u001b[0m\u001b[0m\n\u001b[0;32m     13\u001b[0m \u001b[1;31m# For printing the matrix\u001b[0m\u001b[1;33m\u001b[0m\u001b[1;33m\u001b[0m\u001b[0m\n",
      "\u001b[1;31mValueError\u001b[0m: could not convert string to float: '2.0 2.0 2.0 2.0'"
     ]
    }
   ],
   "source": [
    "import numpy as np\n",
    "  \n",
    "R = float(input(\"Enter the number of rows:\"))\n",
    "C = float(input(\"Enter the number of columns:\"))\n",
    "  \n",
    "  \n",
    "print(\"Enter the entries in a single line (separated by space): \")\n",
    "  \n",
    "# User input of entries in a \n",
    "# single line separated by space\n",
    "entries = [float(input()), float(input())]\n",
    "  \n",
    "# For printing the matrix\n",
    "b = np.array(entries).reshape(R, C)\n",
    "print(b)\n",
    "\n",
    "b = np.array(b)"
   ]
  },
  {
   "cell_type": "code",
   "execution_count": 21,
   "id": "61af2dfb",
   "metadata": {},
   "outputs": [
    {
     "name": "stdout",
     "output_type": "stream",
     "text": [
      "Enter the number of rows:2 \n",
      "Enter the number of columns:2\n",
      "Enter the entries in a single line (separated by space): \n",
      "2 2 2 2\n",
      "[[2 2]\n",
      " [2 2]]\n"
     ]
    }
   ],
   "source": [
    "import numpy as np\n",
    "  \n",
    "R = int(input(\"Enter the number of rows:\"))\n",
    "C = int(input(\"Enter the number of columns:\"))\n",
    "  \n",
    "  \n",
    "print(\"Enter the entries in a single line (separated by space): \")\n",
    "  \n",
    "# User input of entries in a \n",
    "# single line separated by space\n",
    "entries = list(map(int, input().split()))\n",
    "  \n",
    "# For printing the matrix\n",
    "matrix = np.array(entries).reshape(R, C)\n",
    "print(matrix)"
   ]
  },
  {
   "cell_type": "code",
   "execution_count": 22,
   "id": "aa30dd15",
   "metadata": {},
   "outputs": [
    {
     "name": "stdout",
     "output_type": "stream",
     "text": [
      "Enter the number of rows:2\n",
      "Enter the number of columns:2\n",
      "Enter the entries in a single line (separated by space): \n",
      "2 6 5 7\n",
      "[[2 6]\n",
      " [5 7]]\n"
     ]
    }
   ],
   "source": [
    "#çalınan kodların kaynağı:\n",
    "\n",
    "#https://www.quora.com/What-does-the-following-line-mean-in-Python-list-map-int-input-strip-split-I\n",
    "#https://www.geeksforgeeks.org/take-matrix-input-from-user-in-python/\n",
    "\n",
    "import numpy as np\n",
    "  \n",
    "R = int(input(\"Enter the number of rows:\"))\n",
    "C = int(input(\"Enter the number of columns:\"))\n",
    "  \n",
    "  \n",
    "print(\"Enter the entries in a single line (separated by space): \")\n",
    "  \n",
    "# User input of entries in a \n",
    "# single line separated by space\n",
    "entries = list(map(int, input().split()))\n",
    "  \n",
    "# For printing the matrix\n",
    "matrix2 = np.array(entries).reshape(R, C)\n",
    "print(matrix2)"
   ]
  },
  {
   "cell_type": "code",
   "execution_count": 23,
   "id": "f32c022e",
   "metadata": {},
   "outputs": [
    {
     "name": "stdout",
     "output_type": "stream",
     "text": [
      "[[ 4 12 10 14]\n",
      " [ 4 12 10 14]\n",
      " [ 4 12 10 14]\n",
      " [ 4 12 10 14]]\n"
     ]
    }
   ],
   "source": [
    "print(np.outer(matrix, matrix2))"
   ]
  },
  {
   "cell_type": "markdown",
   "id": "a2e73567",
   "metadata": {},
   "source": [
    "## Third Question"
   ]
  },
  {
   "cell_type": "code",
   "execution_count": 28,
   "id": "284589df",
   "metadata": {},
   "outputs": [
    {
     "name": "stdout",
     "output_type": "stream",
     "text": [
      "Enter the number of rows:1\n",
      "Enter the number of columns:3\n",
      "Enter the entries in a single line (separated by space): \n",
      "1 2 3\n",
      "[[1 2 3]]\n",
      "Enter the number of rows:1\n",
      "Enter the number of columns:3\n",
      "Enter the entries in a single line (separated by space): \n",
      "2 3 5\n",
      "[[2 3 5]]\n",
      "[[ 1  1 -1]]\n"
     ]
    }
   ],
   "source": [
    "R = int(input(\"Enter the number of rows:\"))\n",
    "C = int(input(\"Enter the number of columns:\"))\n",
    "  \n",
    "  \n",
    "print(\"Enter the entries in a single line (separated by space): \")\n",
    "  \n",
    "# User input of entries in a \n",
    "# single line separated by space\n",
    "entries = list(map(int, input().split()))\n",
    "  \n",
    "# For printing the matrix\n",
    "matrix3 = np.array(entries).reshape(R, C)\n",
    "print(matrix3)\n",
    "\n",
    "\n",
    "R = int(input(\"Enter the number of rows:\"))\n",
    "C = int(input(\"Enter the number of columns:\"))\n",
    "  \n",
    "  \n",
    "print(\"Enter the entries in a single line (separated by space): \")\n",
    "  \n",
    "# User input of entries in a \n",
    "# single line separated by space\n",
    "entries = list(map(int, input().split()))\n",
    "  \n",
    "# For printing the matrix\n",
    "matrix4 = np.array(entries).reshape(R, C)\n",
    "print(matrix4)\n",
    "\n",
    "\n",
    "print(np.cross(matrix3, matrix4))"
   ]
  },
  {
   "cell_type": "markdown",
   "id": "84759e32",
   "metadata": {},
   "source": [
    "## Fourth Question\n"
   ]
  },
  {
   "cell_type": "code",
   "execution_count": 29,
   "id": "7f5a7552",
   "metadata": {},
   "outputs": [
    {
     "name": "stdout",
     "output_type": "stream",
     "text": [
      "Enter the number of rows:2\n",
      "Enter the number of columns:2\n",
      "Enter the entries in a single line (separated by space): \n",
      "2 3 7 1\n",
      "[[2 3]\n",
      " [7 1]]---18.999999999999996\n"
     ]
    }
   ],
   "source": [
    "R = int(input(\"Enter the number of rows:\"))\n",
    "C = int(input(\"Enter the number of columns:\"))\n",
    "  \n",
    "  \n",
    "print(\"Enter the entries in a single line (separated by space): \")\n",
    "  \n",
    "# User input of entries in a \n",
    "# single line separated by space\n",
    "entries = list(map(int, input().split()))\n",
    "  \n",
    "# For printing the matrix\n",
    "hü = np.array(entries).reshape(R, C)\n",
    "\n",
    "hüü = np.linalg.det(hü)\n",
    "\n",
    "print(hü,hüü, sep = '--')"
   ]
  },
  {
   "cell_type": "markdown",
   "id": "072dffbf",
   "metadata": {},
   "source": [
    "## Fifth Question\n"
   ]
  },
  {
   "cell_type": "code",
   "execution_count": 30,
   "id": "cf582ffa",
   "metadata": {},
   "outputs": [],
   "source": [
    "#Einstein's summation convention'ın ne olduğunu anlayamadım"
   ]
  },
  {
   "cell_type": "markdown",
   "id": "70091f0d",
   "metadata": {},
   "source": [
    "## Sixth Question"
   ]
  },
  {
   "cell_type": "code",
   "execution_count": 31,
   "id": "dbccbe9b",
   "metadata": {},
   "outputs": [
    {
     "name": "stdout",
     "output_type": "stream",
     "text": [
      "Enter the number of rows:2\n",
      "Enter the number of columns:3\n",
      "Enter the entries in a single line (separated by space): \n",
      "1 2 3 4 5 6\n",
      "Enter the number of rows:2\n",
      "Enter the number of columns:3\n",
      "Enter the entries in a single line (separated by space): \n",
      "7 8 9 10 11 12\n",
      "[[1 2 3]\n",
      " [4 5 6]]oooooooooo[[ 7  8  9]\n",
      " [10 11 12]]oooooooooo[[ 50  68]\n",
      " [122 167]]\n"
     ]
    }
   ],
   "source": [
    "R = int(input(\"Enter the number of rows:\"))\n",
    "C = int(input(\"Enter the number of columns:\"))\n",
    "  \n",
    "  \n",
    "print(\"Enter the entries in a single line (separated by space): \")\n",
    "  \n",
    "# User input of entries in a \n",
    "# single line separated by space\n",
    "entries = list(map(int, input().split()))\n",
    "  \n",
    "# For printing the matrix\n",
    "matrix5 = np.array(entries).reshape(R, C)\n",
    "\n",
    "\n",
    "R = int(input(\"Enter the number of rows:\"))\n",
    "C = int(input(\"Enter the number of columns:\"))\n",
    "  \n",
    "  \n",
    "print(\"Enter the entries in a single line (separated by space): \")\n",
    "  \n",
    "# User input of entries in a \n",
    "# single line separated by space\n",
    "entries = list(map(int, input().split()))\n",
    "  \n",
    "# For printing the matrix\n",
    "matrix6 = np.array(entries).reshape(R, C)\n",
    "\n",
    "\n",
    "print(matrix5, matrix6, np.inner(matrix5, matrix6), sep = 'oooooooooo')\n",
    "\n",
    "\n",
    "\n"
   ]
  },
  {
   "cell_type": "markdown",
   "id": "c6396b47",
   "metadata": {},
   "source": [
    "## Seventh Question\n"
   ]
  },
  {
   "cell_type": "code",
   "execution_count": 33,
   "id": "2e98d110",
   "metadata": {},
   "outputs": [],
   "source": [
    "D = np.array([[4, 2, 2],[2, 4, 2],[2, 2, 4]])\n",
    "\n",
    "w, v =np.linalg.eig(D)"
   ]
  },
  {
   "cell_type": "code",
   "execution_count": 34,
   "id": "144aea4b",
   "metadata": {},
   "outputs": [
    {
     "data": {
      "text/plain": [
       "array([2., 8., 2.])"
      ]
     },
     "execution_count": 34,
     "metadata": {},
     "output_type": "execute_result"
    }
   ],
   "source": [
    "w #eigenvalues\n"
   ]
  },
  {
   "cell_type": "code",
   "execution_count": 35,
   "id": "7ba0cba3",
   "metadata": {},
   "outputs": [
    {
     "data": {
      "text/plain": [
       "array([[-0.81649658,  0.57735027, -0.32444284],\n",
       "       [ 0.40824829,  0.57735027, -0.48666426],\n",
       "       [ 0.40824829,  0.57735027,  0.81110711]])"
      ]
     },
     "execution_count": 35,
     "metadata": {},
     "output_type": "execute_result"
    }
   ],
   "source": [
    "v #eigenvectors full list"
   ]
  },
  {
   "cell_type": "code",
   "execution_count": 38,
   "id": "90b2211a",
   "metadata": {},
   "outputs": [
    {
     "data": {
      "text/plain": [
       "array([-0.81649658,  0.40824829,  0.40824829])"
      ]
     },
     "execution_count": 38,
     "metadata": {},
     "output_type": "execute_result"
    }
   ],
   "source": [
    "v[:, 0] #first eigen vector"
   ]
  },
  {
   "cell_type": "code",
   "execution_count": 40,
   "id": "48e59f95",
   "metadata": {},
   "outputs": [
    {
     "data": {
      "text/plain": [
       "array([-0.32444284, -0.48666426,  0.81110711])"
      ]
     },
     "execution_count": 40,
     "metadata": {},
     "output_type": "execute_result"
    }
   ],
   "source": [
    "v[:, 2] #last eigen vector"
   ]
  },
  {
   "cell_type": "markdown",
   "id": "9a1106fb",
   "metadata": {},
   "source": [
    "## Eighth Question\n",
    "\n",
    "Kronecker Product = For example you have two matrices A and B, kronecker product of these two is a vector like; <<a_11*B>,...<a_nn*B>> assuming A is n*n\n",
    "\n",
    "https://en.wikipedia.org/wiki/Kronecker_product"
   ]
  },
  {
   "cell_type": "code",
   "execution_count": 43,
   "id": "bbdccc16",
   "metadata": {},
   "outputs": [
    {
     "name": "stdout",
     "output_type": "stream",
     "text": [
      "Enter the number of rows:2\n",
      "Enter the number of columns:2\n",
      "Enter the entries in a single line (separated by space): \n",
      "1 5 7 11\n",
      "Enter the number of rows:2\n",
      "Enter the number of columns:2\n",
      "Enter the entries in a single line (separated by space): \n",
      "11 5 77 11\n",
      "[[ 1  5]\n",
      " [ 7 11]]ğğğğğğğğğ[[11  5]\n",
      " [77 11]]ğğğğğğğğğ[[ 11   5  55  25]\n",
      " [ 77  11 385  55]\n",
      " [ 77  35 121  55]\n",
      " [539  77 847 121]]\n"
     ]
    }
   ],
   "source": [
    "R = int(input(\"Enter the number of rows:\"))\n",
    "C = int(input(\"Enter the number of columns:\"))\n",
    "  \n",
    "  \n",
    "print(\"Enter the entries in a single line (separated by space): \")\n",
    "  \n",
    "# User input of entries in a \n",
    "# single line separated by space\n",
    "entries = list(map(int, input().split()))\n",
    "  \n",
    "# For printing the matrix\n",
    "matrix7 = np.array(entries).reshape(R, C)\n",
    "\n",
    "\n",
    "R = int(input(\"Enter the number of rows:\"))\n",
    "C = int(input(\"Enter the number of columns:\"))\n",
    "  \n",
    "  \n",
    "print(\"Enter the entries in a single line (separated by space): \")\n",
    "  \n",
    "# User input of entries in a \n",
    "# single line separated by space\n",
    "entries = list(map(int, input().split()))\n",
    "  \n",
    "# For printing the matrix\n",
    "matrix8 = np.array(entries).reshape(R, C)\n",
    "\n",
    "print(matrix7, matrix8, np.kron(matrix7, matrix8), sep = 'ğğğğğğğğğ')\n"
   ]
  },
  {
   "cell_type": "markdown",
   "id": "b55fcd53",
   "metadata": {},
   "source": [
    "## Ninth Question\n",
    "\n",
    "condition number is defined as $ k = ||A||||A^{-1}||$ so obviously A must be a square matrix"
   ]
  },
  {
   "cell_type": "code",
   "execution_count": 87,
   "id": "863ee963",
   "metadata": {},
   "outputs": [
    {
     "name": "stdout",
     "output_type": "stream",
     "text": [
      "Enter the number of rows:3\n",
      "Enter the number of columns:3\n",
      "Enter the entries in a single line (separated by space): \n",
      "11 27 12 14 23 1 6 9 4\n"
     ]
    }
   ],
   "source": [
    "R = int(input(\"Enter the number of rows:\"))\n",
    "C = int(input(\"Enter the number of columns:\"))\n",
    "  \n",
    "  \n",
    "print(\"Enter the entries in a single line (separated by space): \")\n",
    "  \n",
    "# User input of entries in a \n",
    "# single line separated by space\n",
    "entries = list(map(float, input().split()))\n",
    "  \n",
    "# For printing the matrix\n",
    "F = np.array(entries).reshape(R, C)"
   ]
  },
  {
   "cell_type": "code",
   "execution_count": 88,
   "id": "af285ac8",
   "metadata": {},
   "outputs": [
    {
     "data": {
      "text/plain": [
       "array([[11., 27., 12.],\n",
       "       [14., 23.,  1.],\n",
       "       [ 6.,  9.,  4.]])"
      ]
     },
     "execution_count": 88,
     "metadata": {},
     "output_type": "execute_result"
    }
   ],
   "source": [
    "F\n"
   ]
  },
  {
   "cell_type": "code",
   "execution_count": 89,
   "id": "79f12632",
   "metadata": {},
   "outputs": [],
   "source": [
    "FF = F**-1\n"
   ]
  },
  {
   "cell_type": "code",
   "execution_count": 90,
   "id": "f83afee9",
   "metadata": {},
   "outputs": [],
   "source": [
    "FFF = np.linalg.inv(F)"
   ]
  },
  {
   "cell_type": "code",
   "execution_count": 91,
   "id": "7e9ddeba",
   "metadata": {},
   "outputs": [
    {
     "data": {
      "text/plain": [
       "array([[-1.42857143e-01,  1.58603289e-17,  4.28571429e-01],\n",
       "       [ 8.60585198e-02,  4.81927711e-02, -2.70223752e-01],\n",
       "       [ 2.06540448e-02, -1.08433735e-01,  2.15146299e-01]])"
      ]
     },
     "execution_count": 91,
     "metadata": {},
     "output_type": "execute_result"
    }
   ],
   "source": [
    "FFF"
   ]
  },
  {
   "cell_type": "code",
   "execution_count": 93,
   "id": "7f0eafeb",
   "metadata": {},
   "outputs": [],
   "source": [
    "k = np.linalg.norm(F)*np.linalg.norm(FFF)"
   ]
  },
  {
   "cell_type": "code",
   "execution_count": 94,
   "id": "f11caa76",
   "metadata": {},
   "outputs": [
    {
     "data": {
      "text/plain": [
       "25.29520536080166"
      ]
     },
     "execution_count": 94,
     "metadata": {},
     "output_type": "execute_result"
    }
   ],
   "source": [
    "k"
   ]
  },
  {
   "cell_type": "code",
   "execution_count": 95,
   "id": "6f216607",
   "metadata": {},
   "outputs": [
    {
     "name": "stdout",
     "output_type": "stream",
     "text": [
      "24.239554167949773\n"
     ]
    }
   ],
   "source": [
    "print(np.linalg.cond(F))"
   ]
  },
  {
   "cell_type": "markdown",
   "id": "feacccc1",
   "metadata": {},
   "source": [
    "## Tenth Question"
   ]
  },
  {
   "cell_type": "code",
   "execution_count": 47,
   "id": "ed1d96f8",
   "metadata": {},
   "outputs": [],
   "source": [
    "pü = np.arange(3)"
   ]
  },
  {
   "cell_type": "code",
   "execution_count": 50,
   "id": "662cfd64",
   "metadata": {},
   "outputs": [],
   "source": [
    "norm = np.sqrt(pü[0]**2 + pü[1]**2 + pü[2]**2) #elle"
   ]
  },
  {
   "cell_type": "code",
   "execution_count": 49,
   "id": "1ffdc3e1",
   "metadata": {},
   "outputs": [
    {
     "data": {
      "text/plain": [
       "array([0, 1, 2])"
      ]
     },
     "execution_count": 49,
     "metadata": {},
     "output_type": "execute_result"
    }
   ],
   "source": [
    "pü"
   ]
  },
  {
   "cell_type": "code",
   "execution_count": 51,
   "id": "ca0f2dbf",
   "metadata": {},
   "outputs": [
    {
     "data": {
      "text/plain": [
       "2.23606797749979"
      ]
     },
     "execution_count": 51,
     "metadata": {},
     "output_type": "execute_result"
    }
   ],
   "source": [
    "norm\n"
   ]
  },
  {
   "cell_type": "code",
   "execution_count": 52,
   "id": "216bd95f",
   "metadata": {},
   "outputs": [],
   "source": [
    "püü = np.linalg.norm(pü) #numpy ile"
   ]
  },
  {
   "cell_type": "code",
   "execution_count": 53,
   "id": "736d7c42",
   "metadata": {},
   "outputs": [
    {
     "data": {
      "text/plain": [
       "2.23606797749979"
      ]
     },
     "execution_count": 53,
     "metadata": {},
     "output_type": "execute_result"
    }
   ],
   "source": [
    "püü\n"
   ]
  },
  {
   "cell_type": "markdown",
   "id": "2c2f0bd6",
   "metadata": {},
   "source": [
    "## Eleventh Question"
   ]
  },
  {
   "cell_type": "code",
   "execution_count": 96,
   "id": "a234891f",
   "metadata": {},
   "outputs": [
    {
     "name": "stdout",
     "output_type": "stream",
     "text": [
      "Enter the number of rows:3\n",
      "Enter the number of columns:3\n",
      "Enter the entries in a single line (separated by space): \n",
      "1 1 7 11 7 11 3 5 4\n"
     ]
    }
   ],
   "source": [
    "R = int(input(\"Enter the number of rows:\"))\n",
    "C = int(input(\"Enter the number of columns:\"))\n",
    "  \n",
    "  \n",
    "print(\"Enter the entries in a single line (separated by space): \")\n",
    "  \n",
    "# User input of entries in a \n",
    "# single line separated by space\n",
    "entries = list(map(float, input().split()))\n",
    "  \n",
    "# For printing the matrix\n",
    "T = np.array(entries).reshape(R, C)"
   ]
  },
  {
   "cell_type": "code",
   "execution_count": 132,
   "id": "7cb3a412",
   "metadata": {},
   "outputs": [],
   "source": [
    "def f(T):\n",
    "    return T[0,0]*(T[1,1]*T[2,2]-T[1,2]*T[2,1]) - T[0,1]*(T[1,0]*T[2,2]-T[2,0]*T[1,2]) + T[0,2]*(T[1,0]*T[2,1]-T[2,0]*T[1,1])\n",
    "    \n",
    "    "
   ]
  },
  {
   "cell_type": "code",
   "execution_count": 122,
   "id": "e7d9889f",
   "metadata": {},
   "outputs": [
    {
     "data": {
      "text/plain": [
       "11.0"
      ]
     },
     "execution_count": 122,
     "metadata": {},
     "output_type": "execute_result"
    }
   ],
   "source": [
    "T[1,0]\n"
   ]
  },
  {
   "cell_type": "code",
   "execution_count": 109,
   "id": "b8f9dc38",
   "metadata": {},
   "outputs": [
    {
     "data": {
      "text/plain": [
       "array([[ 1.,  1.,  7.],\n",
       "       [11.,  7., 11.],\n",
       "       [ 3.,  5.,  4.]])"
      ]
     },
     "execution_count": 109,
     "metadata": {},
     "output_type": "execute_result"
    }
   ],
   "source": [
    "T"
   ]
  },
  {
   "cell_type": "code",
   "execution_count": 133,
   "id": "7dd5788c",
   "metadata": {},
   "outputs": [
    {
     "data": {
      "text/plain": [
       "200.0"
      ]
     },
     "execution_count": 133,
     "metadata": {},
     "output_type": "execute_result"
    }
   ],
   "source": [
    "f(T)"
   ]
  },
  {
   "cell_type": "code",
   "execution_count": 130,
   "id": "ac316d38",
   "metadata": {},
   "outputs": [
    {
     "data": {
      "text/plain": [
       "200.0000000000001"
      ]
     },
     "execution_count": 130,
     "metadata": {},
     "output_type": "execute_result"
    }
   ],
   "source": [
    "np.linalg.det(T)"
   ]
  },
  {
   "cell_type": "markdown",
   "id": "0c77d33b",
   "metadata": {},
   "source": [
    "## Twelth Question"
   ]
  },
  {
   "cell_type": "code",
   "execution_count": 134,
   "id": "bf93579e",
   "metadata": {},
   "outputs": [
    {
     "name": "stdout",
     "output_type": "stream",
     "text": [
      "Enter the number of rows:2\n",
      "Enter the number of columns:2\n",
      "Enter the entries in a single line (separated by space): \n",
      "4 5 6 2\n"
     ]
    }
   ],
   "source": [
    "R = int(input(\"Enter the number of rows:\"))\n",
    "C = int(input(\"Enter the number of columns:\"))\n",
    "  \n",
    "  \n",
    "print(\"Enter the entries in a single line (separated by space): \")\n",
    "  \n",
    "# User input of entries in a \n",
    "# single line separated by space\n",
    "entries = list(map(float, input().split()))\n",
    "  \n",
    "# For printing the matrix\n",
    "ğğ = np.array(entries).reshape(R, C)"
   ]
  },
  {
   "cell_type": "code",
   "execution_count": 135,
   "id": "8dec3509",
   "metadata": {},
   "outputs": [
    {
     "data": {
      "text/plain": [
       "array([[4., 5.],\n",
       "       [6., 2.]])"
      ]
     },
     "execution_count": 135,
     "metadata": {},
     "output_type": "execute_result"
    }
   ],
   "source": [
    "ğğ\n"
   ]
  },
  {
   "cell_type": "code",
   "execution_count": 140,
   "id": "0760a8df",
   "metadata": {},
   "outputs": [],
   "source": [
    "def f(ğğ):\n",
    "    return np.array([[ğğ[1,1], -ğğ[0,1]],[-ğğ[1,0], ğğ[0,0]]])*1/(ğğ[1,1]*ğğ[0,0] - ğğ[1,0]*ğğ[0,1])"
   ]
  },
  {
   "cell_type": "code",
   "execution_count": 141,
   "id": "99b1af92",
   "metadata": {},
   "outputs": [
    {
     "data": {
      "text/plain": [
       "array([[-0.09090909,  0.22727273],\n",
       "       [ 0.27272727, -0.18181818]])"
      ]
     },
     "execution_count": 141,
     "metadata": {},
     "output_type": "execute_result"
    }
   ],
   "source": [
    "f(ğğ)\n"
   ]
  },
  {
   "cell_type": "code",
   "execution_count": 142,
   "id": "83661698",
   "metadata": {},
   "outputs": [
    {
     "data": {
      "text/plain": [
       "array([[-0.09090909,  0.22727273],\n",
       "       [ 0.27272727, -0.18181818]])"
      ]
     },
     "execution_count": 142,
     "metadata": {},
     "output_type": "execute_result"
    }
   ],
   "source": [
    "np.linalg.inv(ğğ)"
   ]
  },
  {
   "cell_type": "markdown",
   "id": "15ae8763",
   "metadata": {},
   "source": [
    "## Thirteenth Question"
   ]
  },
  {
   "cell_type": "code",
   "execution_count": null,
   "id": "43b4ad74",
   "metadata": {},
   "outputs": [],
   "source": [
    "?"
   ]
  },
  {
   "cell_type": "code",
   "execution_count": null,
   "id": "9ce84a5c",
   "metadata": {},
   "outputs": [],
   "source": []
  },
  {
   "cell_type": "code",
   "execution_count": null,
   "id": "858fae24",
   "metadata": {},
   "outputs": [],
   "source": []
  },
  {
   "cell_type": "markdown",
   "id": "8f5590a3",
   "metadata": {},
   "source": [
    "## Fourteenth Question\n",
    "\n"
   ]
  },
  {
   "cell_type": "code",
   "execution_count": null,
   "id": "3f3369c2",
   "metadata": {},
   "outputs": [],
   "source": [
    "#bu soru 9 ile aynı"
   ]
  },
  {
   "cell_type": "code",
   "execution_count": null,
   "id": "5baadeca",
   "metadata": {},
   "outputs": [],
   "source": []
  },
  {
   "cell_type": "code",
   "execution_count": null,
   "id": "e34fe4a2",
   "metadata": {},
   "outputs": [],
   "source": []
  },
  {
   "cell_type": "markdown",
   "id": "f1af7511",
   "metadata": {},
   "source": [
    "## Fifteenth Question\n",
    "\n",
    "Sum of diagonal entries = a_00+ a_11+ a_22+ ...+ a_nn assuming A is an n * n sqaure matrix"
   ]
  },
  {
   "cell_type": "code",
   "execution_count": 143,
   "id": "03a7d2e4",
   "metadata": {},
   "outputs": [
    {
     "name": "stdout",
     "output_type": "stream",
     "text": [
      "Enter the number of rows:2\n",
      "Enter the number of columns:2\n",
      "Enter the entries in a single line (separated by space): \n",
      "2 5 7 11\n"
     ]
    }
   ],
   "source": [
    "R = int(input(\"Enter the number of rows:\"))\n",
    "C = int(input(\"Enter the number of columns:\"))\n",
    "  \n",
    "  \n",
    "print(\"Enter the entries in a single line (separated by space): \")\n",
    "  \n",
    "# User input of entries in a \n",
    "# single line separated by space\n",
    "entries = list(map(float, input().split()))\n",
    "  \n",
    "# For printing the matrix\n",
    "jj = np.array(entries).reshape(R, C)"
   ]
  },
  {
   "cell_type": "code",
   "execution_count": 144,
   "id": "58cf06b6",
   "metadata": {},
   "outputs": [
    {
     "data": {
      "text/plain": [
       "array([[ 2.,  5.],\n",
       "       [ 7., 11.]])"
      ]
     },
     "execution_count": 144,
     "metadata": {},
     "output_type": "execute_result"
    }
   ],
   "source": [
    "jj\n"
   ]
  },
  {
   "cell_type": "code",
   "execution_count": 155,
   "id": "2f356ffd",
   "metadata": {},
   "outputs": [
    {
     "ename": "NameError",
     "evalue": "name 'j' is not defined",
     "output_type": "error",
     "traceback": [
      "\u001b[1;31m---------------------------------------------------------------------------\u001b[0m",
      "\u001b[1;31mNameError\u001b[0m                                 Traceback (most recent call last)",
      "\u001b[1;32m~\\AppData\\Local\\Temp/ipykernel_17732/4210184538.py\u001b[0m in \u001b[0;36m<module>\u001b[1;34m\u001b[0m\n\u001b[0;32m      1\u001b[0m \u001b[0mi\u001b[0m \u001b[1;33m=\u001b[0m \u001b[1;36m0\u001b[0m\u001b[1;33m\u001b[0m\u001b[1;33m\u001b[0m\u001b[0m\n\u001b[1;32m----> 2\u001b[1;33m \u001b[1;32mif\u001b[0m \u001b[0mi\u001b[0m \u001b[1;33m==\u001b[0m \u001b[0mj\u001b[0m\u001b[1;33m:\u001b[0m\u001b[1;33m\u001b[0m\u001b[1;33m\u001b[0m\u001b[0m\n\u001b[0m\u001b[0;32m      3\u001b[0m   \u001b[1;32mdef\u001b[0m \u001b[0mf\u001b[0m\u001b[1;33m(\u001b[0m\u001b[0mj\u001b[0m\u001b[1;33m)\u001b[0m\u001b[1;33m:\u001b[0m\u001b[1;33m\u001b[0m\u001b[1;33m\u001b[0m\u001b[0m\n\u001b[0;32m      4\u001b[0m     \u001b[1;32mreturn\u001b[0m \u001b[0mjj\u001b[0m\u001b[1;33m[\u001b[0m\u001b[0mi\u001b[0m\u001b[1;33m,\u001b[0m\u001b[0mi\u001b[0m\u001b[1;33m]\u001b[0m \u001b[1;33m+\u001b[0m \u001b[0mjj\u001b[0m\u001b[1;33m[\u001b[0m\u001b[0mj\u001b[0m\u001b[1;33m,\u001b[0m\u001b[0mj\u001b[0m\u001b[1;33m]\u001b[0m\u001b[1;33m\u001b[0m\u001b[1;33m\u001b[0m\u001b[0m\n\u001b[0;32m      5\u001b[0m \u001b[1;33m\u001b[0m\u001b[0m\n",
      "\u001b[1;31mNameError\u001b[0m: name 'j' is not defined"
     ]
    }
   ],
   "source": [
    "i = 0\n",
    "if i == j:\n",
    "  def f(i):\n",
    "    return jj[i,i] + jj[i,i]\n",
    "    \n",
    "    \n",
    "#numpy olmadan trace i hesaplamayı denemiştim ama beceremedim"
   ]
  },
  {
   "cell_type": "code",
   "execution_count": 156,
   "id": "121034ff",
   "metadata": {},
   "outputs": [
    {
     "data": {
      "text/plain": [
       "2.0"
      ]
     },
     "execution_count": 156,
     "metadata": {},
     "output_type": "execute_result"
    }
   ],
   "source": [
    "jj[i,i]"
   ]
  },
  {
   "cell_type": "code",
   "execution_count": 162,
   "id": "e377922a",
   "metadata": {},
   "outputs": [],
   "source": [
    "a = np.trace(jj)"
   ]
  },
  {
   "cell_type": "code",
   "execution_count": 163,
   "id": "b0130da7",
   "metadata": {},
   "outputs": [
    {
     "data": {
      "text/plain": [
       "13.0"
      ]
     },
     "execution_count": 163,
     "metadata": {},
     "output_type": "execute_result"
    }
   ],
   "source": [
    "a"
   ]
  },
  {
   "cell_type": "markdown",
   "id": "58fe052a",
   "metadata": {},
   "source": [
    "## Sixteenth Question"
   ]
  },
  {
   "cell_type": "code",
   "execution_count": null,
   "id": "6ff73f1a",
   "metadata": {},
   "outputs": [],
   "source": []
  }
 ],
 "metadata": {
  "kernelspec": {
   "display_name": "Python 3 (ipykernel)",
   "language": "python",
   "name": "python3"
  },
  "language_info": {
   "codemirror_mode": {
    "name": "ipython",
    "version": 3
   },
   "file_extension": ".py",
   "mimetype": "text/x-python",
   "name": "python",
   "nbconvert_exporter": "python",
   "pygments_lexer": "ipython3",
   "version": "3.10.1"
  }
 },
 "nbformat": 4,
 "nbformat_minor": 5
}
