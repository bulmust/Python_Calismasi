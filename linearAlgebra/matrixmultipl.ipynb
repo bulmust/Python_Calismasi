{
 "cells": [
  {
   "cell_type": "code",
   "execution_count": 10,
   "metadata": {},
   "outputs": [
    {
     "ename": "IndexError",
     "evalue": "index 1 is out of bounds for axis 0 with size 1",
     "output_type": "error",
     "traceback": [
      "\u001b[0;31m---------------------------------------------------------------------------\u001b[0m",
      "\u001b[0;31mIndexError\u001b[0m                                Traceback (most recent call last)",
      "\u001b[1;32m/home/ok/Belgeler/Python_Calismasi/matrixmultipl.ipynb Cell 1'\u001b[0m in \u001b[0;36m<cell line: 24>\u001b[0;34m()\u001b[0m\n\u001b[1;32m     <a href='vscode-notebook-cell:/home/ok/Belgeler/Python_Calismasi/matrixmultipl.ipynb#ch0000000?line=20'>21</a>\u001b[0m X\u001b[39m=\u001b[39m np\u001b[39m.\u001b[39marray([[\u001b[39m2\u001b[39m],[\u001b[39m4\u001b[39m]])\n\u001b[1;32m     <a href='vscode-notebook-cell:/home/ok/Belgeler/Python_Calismasi/matrixmultipl.ipynb#ch0000000?line=21'>22</a>\u001b[0m Y\u001b[39m=\u001b[39m np\u001b[39m.\u001b[39marray([[\u001b[39m6\u001b[39m,\u001b[39m8\u001b[39m],[\u001b[39m7\u001b[39m,\u001b[39m23\u001b[39m]])\n\u001b[0;32m---> <a href='vscode-notebook-cell:/home/ok/Belgeler/Python_Calismasi/matrixmultipl.ipynb#ch0000000?line=23'>24</a>\u001b[0m result\u001b[39m=\u001b[39m onurMatMul(X,Y)\n\u001b[1;32m     <a href='vscode-notebook-cell:/home/ok/Belgeler/Python_Calismasi/matrixmultipl.ipynb#ch0000000?line=24'>25</a>\u001b[0m kontrol \u001b[39m=\u001b[39m np\u001b[39m.\u001b[39mmatmul(X,Y)\n\u001b[1;32m     <a href='vscode-notebook-cell:/home/ok/Belgeler/Python_Calismasi/matrixmultipl.ipynb#ch0000000?line=27'>28</a>\u001b[0m \u001b[39m#print(result, '\\n\\n', kontrol)\u001b[39;00m\n",
      "\u001b[1;32m/home/ok/Belgeler/Python_Calismasi/matrixmultipl.ipynb Cell 1'\u001b[0m in \u001b[0;36monurMatMul\u001b[0;34m(X, Y)\u001b[0m\n\u001b[1;32m     <a href='vscode-notebook-cell:/home/ok/Belgeler/Python_Calismasi/matrixmultipl.ipynb#ch0000000?line=9'>10</a>\u001b[0m    \u001b[39mfor\u001b[39;00m j \u001b[39min\u001b[39;00m \u001b[39mrange\u001b[39m(np\u001b[39m.\u001b[39mshape(Y)[\u001b[39m1\u001b[39m]):\n\u001b[1;32m     <a href='vscode-notebook-cell:/home/ok/Belgeler/Python_Calismasi/matrixmultipl.ipynb#ch0000000?line=10'>11</a>\u001b[0m       \u001b[39m# iterate through rows of Y\u001b[39;00m\n\u001b[1;32m     <a href='vscode-notebook-cell:/home/ok/Belgeler/Python_Calismasi/matrixmultipl.ipynb#ch0000000?line=11'>12</a>\u001b[0m       \u001b[39mfor\u001b[39;00m k \u001b[39min\u001b[39;00m \u001b[39mrange\u001b[39m(\u001b[39mlen\u001b[39m(Y)):\n\u001b[0;32m---> <a href='vscode-notebook-cell:/home/ok/Belgeler/Python_Calismasi/matrixmultipl.ipynb#ch0000000?line=12'>13</a>\u001b[0m          result[i][j] \u001b[39m+\u001b[39m\u001b[39m=\u001b[39m X[i][k] \u001b[39m*\u001b[39m Y[k][j]\n\u001b[1;32m     <a href='vscode-notebook-cell:/home/ok/Belgeler/Python_Calismasi/matrixmultipl.ipynb#ch0000000?line=14'>15</a>\u001b[0m \u001b[39mreturn\u001b[39;00m result\n",
      "\u001b[0;31mIndexError\u001b[0m: index 1 is out of bounds for axis 0 with size 1"
     ]
    }
   ],
   "source": [
    "import numpy as np\n",
    "\n",
    "def onurMatMul(X,Y):\n",
    "   #if np.shape(X)[1] != np.shape(Y)[0]:\n",
    "   #   exit('your dimensions are incorrect.')\n",
    "\n",
    "   result = np.zeros((np.shape(X)[0], np.shape(Y)[1]))\n",
    "   for i in range(np.shape(X)[0]):\n",
    "      # iterate through columns of Y\n",
    "      for j in range(np.shape(Y)[1]):\n",
    "         # iterate through rows of Y\n",
    "         for k in range(len(Y)):\n",
    "            result[i][j] += X[i][k] * Y[k][j]\n",
    "\n",
    "   return result\n",
    "\n",
    "def onurDet(X):\n",
    "   # Determınant of X\n",
    "   print()\n",
    "\n",
    "X= np.array([[2],[4]])\n",
    "Y= np.array([[6,8],[7,23]])\n",
    "\n",
    "result= onurMatMul(X,Y)\n",
    "kontrol = np.matmul(X,Y)\n",
    "\n",
    "\n",
    "#print(result, '\\n\\n', kontrol)\n",
    "print(result, kontrol, sep = '\\n\\n')\n",
    "\n"
   ]
  },
  {
   "cell_type": "code",
   "execution_count": null,
   "metadata": {},
   "outputs": [],
   "source": []
  }
 ],
 "metadata": {
  "interpreter": {
   "hash": "4de437198ffd7a0cfec89ec9b170389a2c9f2986b1e56a503d1fdfff33f21250"
  },
  "kernelspec": {
   "display_name": "Python 3.10.1 64-bit",
   "language": "python",
   "name": "python3"
  },
  "language_info": {
   "codemirror_mode": {
    "name": "ipython",
    "version": 3
   },
   "file_extension": ".py",
   "mimetype": "text/x-python",
   "name": "python",
   "nbconvert_exporter": "python",
   "pygments_lexer": "ipython3",
   "version": "3.8.10"
  },
  "orig_nbformat": 4
 },
 "nbformat": 4,
 "nbformat_minor": 2
}
