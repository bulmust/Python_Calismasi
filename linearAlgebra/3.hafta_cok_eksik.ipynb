{
 "cells": [
  {
   "cell_type": "code",
   "execution_count": 1,
   "metadata": {},
   "outputs": [],
   "source": [
    "import numpy as np"
   ]
  },
  {
   "cell_type": "code",
   "execution_count": 2,
   "metadata": {},
   "outputs": [],
   "source": [
    "# Create Matrix\n",
    "def func1(Row,Column): # Function starts\n",
    "    # Check if the input is a positive integer\n",
    "    if Row < 1 or Column < 1 or type(Row) != int or type(Column) != int:\n",
    "        print(\"Please enter a positive integer\")\n",
    "        return\n",
    "    # Create a matrix with the given size\n",
    "    if Row == Column: # If Row = Column\n",
    "        # Create a zero square matrix\n",
    "        mat1= np.zeros((Row,Column))\n",
    "        print('Enter the elements of matrix.\\n')\n",
    "        for it1 in range(Row):\n",
    "            for it2 in range(Column):\n",
    "                str1='Enter element [%d][%d]: ' %(it1+1,it2+1)\n",
    "                mat1[it1,it2] = float(input(str1))\n",
    "        return mat1\n",
    "    else:\n",
    "        print('Matrix is not square!')\n",
    "        return"
   ]
  },
  {
   "cell_type": "code",
   "execution_count": 3,
   "metadata": {},
   "outputs": [
    {
     "name": "stdout",
     "output_type": "stream",
     "text": [
      "Matrix is not square!\n"
     ]
    }
   ],
   "source": [
    "func1(9,1)"
   ]
  },
  {
   "cell_type": "code",
   "execution_count": 4,
   "metadata": {},
   "outputs": [
    {
     "name": "stdout",
     "output_type": "stream",
     "text": [
      "Please enter a positive integer\n"
     ]
    }
   ],
   "source": [
    "func1(2.1,2)"
   ]
  },
  {
   "cell_type": "code",
   "execution_count": 5,
   "metadata": {},
   "outputs": [
    {
     "name": "stdout",
     "output_type": "stream",
     "text": [
      "Enter the elements of matrix.\n",
      "\n"
     ]
    },
    {
     "data": {
      "text/plain": [
       "array([[1., 2.],\n",
       "       [3., 4.]])"
      ]
     },
     "execution_count": 5,
     "metadata": {},
     "output_type": "execute_result"
    }
   ],
   "source": [
    "func1(2,2)"
   ]
  }
 ],
 "metadata": {
  "interpreter": {
   "hash": "55793ce2eac64d500048dca7be0d3cc43b23b6028fd56d0330c0eeed5eec8d6b"
  },
  "kernelspec": {
   "display_name": "Python 3.9.7 ('base')",
   "language": "python",
   "name": "python3"
  },
  "language_info": {
   "codemirror_mode": {
    "name": "ipython",
    "version": 3
   },
   "file_extension": ".py",
   "mimetype": "text/x-python",
   "name": "python",
   "nbconvert_exporter": "python",
   "pygments_lexer": "ipython3",
   "version": "3.8.10"
  },
  "orig_nbformat": 4
 },
 "nbformat": 4,
 "nbformat_minor": 2
}
