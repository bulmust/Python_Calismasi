{
 "cells": [
  {
   "cell_type": "code",
   "execution_count": 11,
   "metadata": {},
   "outputs": [
    {
     "name": "stdout",
     "output_type": "stream",
     "text": [
      "[[114. 160.  60.  27.]\n",
      " [ 74.  97.  73.  14.]\n",
      " [119. 157. 112.  23.]], [[114 160  60  27]\n",
      " [ 74  97  73  14]\n",
      " [119 157 112  23]]\n"
     ]
    }
   ],
   "source": [
    "import numpy as np\n",
    "\n",
    "X = np.array([[12,7,3],[4 ,5,6],[7 ,8,9]])\n",
    "\n",
    "Y = np.array([[5,8,1,2],[6,7,3,0],[4,5,9,1]])\n",
    "\n",
    "\n",
    "result = np.zeros((np.shape(X)[0], np.shape(Y)[1]))\n",
    "\n",
    "for i in range(np.shape(X)[0]):\n",
    "   # iterate through columns of Y\n",
    "    for j in range(np.shape(Y)[1]):\n",
    "       # iterate through rows of Y\n",
    "        for k in range(len(Y)):\n",
    "           result[i][j] += X[i][k] * Y[k][j]\n",
    "\n",
    "\n",
    "\n",
    "\n",
    "\n",
    "kontrol = np.matmul(X,Y)\n",
    "\n",
    "\n",
    "print(result, kontrol, sep = ', ')\n",
    "\n"
   ]
  },
  {
   "cell_type": "code",
   "execution_count": null,
   "metadata": {},
   "outputs": [],
   "source": []
  }
 ],
 "metadata": {
  "interpreter": {
   "hash": "4de437198ffd7a0cfec89ec9b170389a2c9f2986b1e56a503d1fdfff33f21250"
  },
  "kernelspec": {
   "display_name": "Python 3.10.1 64-bit",
   "language": "python",
   "name": "python3"
  },
  "language_info": {
   "codemirror_mode": {
    "name": "ipython",
    "version": 3
   },
   "file_extension": ".py",
   "mimetype": "text/x-python",
   "name": "python",
   "nbconvert_exporter": "python",
   "pygments_lexer": "ipython3",
   "version": "3.10.1"
  },
  "orig_nbformat": 4
 },
 "nbformat": 4,
 "nbformat_minor": 2
}
