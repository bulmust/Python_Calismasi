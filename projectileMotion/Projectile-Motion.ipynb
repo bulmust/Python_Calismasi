{
 "cells": [
  {
   "cell_type": "markdown",
   "metadata": {},
   "source": [
    "# Projectile Motion\n",
    "\n",
    "\n",
    "\n",
    "$$ v_x = v_{0x} + a_{x}t, v_x = v_{0}\\cos{\\theta} $$\n",
    "\n",
    "$$ v_y = v_{0y} + a_{y}t, v_y = v_{0}\\sin{\\theta} + gt $$\n",
    "\n",
    "$$ \\Delta y = v_{0y}t + {gt^{2}}/2$$\n",
    "\n",
    "$$ \\Delta x = v_{0x}t$$"
   ]
  },
  {
   "cell_type": "code",
   "execution_count": 1,
   "metadata": {},
   "outputs": [
    {
     "name": "stdout",
     "output_type": "stream",
     "text": [
      "time = 0.7733999999999311 seconds\n",
      "velocity = [ 1.59727102 -6.37568995  0.        ] m/s\n",
      "new position = [ 1.23532941e+00 -4.14532189e-04  0.00000000e+00]\n"
     ]
    },
    {
     "data": {
      "text/plain": [
       "[<matplotlib.lines.Line2D at 0x1fadd156dd0>]"
      ]
     },
     "execution_count": 1,
     "metadata": {},
     "output_type": "execute_result"
    },
    {
     "data": {
      "image/png": "[encoded data removed]",
      "text/plain": [
       "<Figure size 432x288 with 1 Axes>"
      ]
     },
     "metadata": {
      "needs_background": "light"
     },
     "output_type": "display_data"
    }
   ],
   "source": [
    "import numpy as np\n",
    "\n",
    "import matplotlib.pyplot as plt\n",
    "\n",
    "g = np.array([0, -9.8, 0])\n",
    "\n",
    "r = np.asarray(list(map(int, input(\"Enter your position vector:\").split())))\n",
    "\n",
    "theta = float(input(\"enter the degree\"))*np.pi/180\n",
    "\n",
    "v_absolute = float(input(\"enter the norm of your velocity vector\"))\n",
    "\n",
    "v = v_absolute*np.array([np.cos(theta), np.sin(theta), 0])\n",
    "t = 0 \n",
    "\n",
    "dt = 0.0001\n",
    "\n",
    "while r[1]> 0:\n",
    "    t = t + dt\n",
    "    v = v + g*dt\n",
    "    r = r + v*dt\n",
    "    \n",
    "    \n",
    "print('time = %s seconds' % t)\n",
    "print('velocity = %s m/s' % v)\n",
    "print('new position = %s' % r)\n",
    "\n",
    "plt.plot(r[0], r[1])"
   ]
  },
  {
   "cell_type": "markdown",
   "metadata": {},
   "source": []
  }
 ],
 "metadata": {
  "interpreter": {
   "hash": "4de437198ffd7a0cfec89ec9b170389a2c9f2986b1e56a503d1fdfff33f21250"
  },
  "kernelspec": {
   "display_name": "Python 3.10.1 64-bit",
   "language": "python",
   "name": "python3"
  },
  "language_info": {
   "codemirror_mode": {
    "name": "ipython",
    "version": 3
   },
   "file_extension": ".py",
   "mimetype": "text/x-python",
   "name": "python",
   "nbconvert_exporter": "python",
   "pygments_lexer": "ipython3",
   "version": "3.10.1"
  },
  "orig_nbformat": 4
 },
 "nbformat": 4,
 "nbformat_minor": 2
}
