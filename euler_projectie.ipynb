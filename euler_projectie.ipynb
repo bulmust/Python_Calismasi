{
 "cells": [
  {
   "cell_type": "code",
   "execution_count": 51,
   "metadata": {},
   "outputs": [
    {
     "name": "stdout",
     "output_type": "stream",
     "text": [
      "-8.932018323913606e-05 -10.847166522058062 -0.4488015829285825\n"
     ]
    },
    {
     "data": {
      "image/png": "[encoded data removed]",
      "text/plain": [
       "<Figure size 864x576 with 1 Axes>"
      ]
     },
     "metadata": {
      "needs_background": "light"
     },
     "output_type": "display_data"
    }
   ],
   "source": [
    "import numpy as np\n",
    "import matplotlib.pyplot as plt\n",
    "\n",
    "#ilk fırsatta buradakiler bir fonksiyona dönüştürülecektir\n",
    "\n",
    "y0 = 0.0001 # while da y > 0.0 dediğim için hata olmasın diye böyle bir değer verdim\n",
    "\n",
    "x0 = 0\n",
    "\n",
    "v0 = 25  # ilk hızım\n",
    "\n",
    "x = x0\n",
    "\n",
    "v = v0\n",
    "\n",
    "g = -9.8\n",
    "\n",
    "dt= 0.00001\n",
    "\n",
    "t = 0 \n",
    "\n",
    "theta = np.pi/7\n",
    "\n",
    "ydata = [] #bir sürü yöntem denedim ama çözemediğim hatalar aldım, bu internetten bulduğum list yöntemi en makulü geldi, matrix kullanınca y > 0.0 şartını sağlamayı beceremedim\n",
    "\n",
    "vdata = []\n",
    "\n",
    "tdata = []\n",
    "\n",
    "xdata = []\n",
    "\n",
    "\n",
    "\n",
    "v_y = v0*np.sin(theta)\n",
    "\n",
    "v_x = v0*np.cos(theta)\n",
    "\n",
    "y = y0\n",
    "\n",
    "while y > 0.0:\n",
    "    tdata.append(t) #append komutu hazırdaki bir list'e yeni elemanları hızlıca yüklemek için kullanılan bir komuttur\n",
    "\n",
    "    vdata.append(v)\n",
    "\n",
    "    ydata.append(y)\n",
    "\n",
    "    xdata.append(x)\n",
    "\n",
    "    t = t + dt\n",
    "\n",
    "    v_y = v_y + dt*g\n",
    "\n",
    "    v_x = v_x + dt*0\n",
    "\n",
    "    y = y + dt*v_y\n",
    "\n",
    "    x = x + dt*v_x\n",
    "\n",
    "    v = np.arctan2(v_y, v_x)\n",
    "\n",
    "    \n",
    "\n",
    "    \n",
    "\n",
    "\n",
    "\n",
    "print(y, v_y, v) \n",
    "\n",
    "\n",
    "\n",
    "plt.figure(figsize = (12, 8))\n",
    "plt.plot(xdata, ydata, 'bo--', label='Yaklaşık')\n",
    "plt.title('Euler Methodu İle Eğik Atış ')\n",
    "plt.xlabel('x')\n",
    "plt.ylabel('y')\n",
    "plt.grid()\n",
    "plt.legend(loc='upper right')\n",
    "plt.show()\n",
    "\n",
    "\n"
   ]
  },
  {
   "cell_type": "code",
   "execution_count": null,
   "metadata": {},
   "outputs": [],
   "source": [
    "while y > 0:\n",
    "    for i in range(0, len(l) - 1):\n",
    "        v_y[i+1] = v_y[i] - 9.8*dt\n",
    "        y[i + 1] = y[i] + dt*v_y[i]"
   ]
  }
 ],
 "metadata": {
  "interpreter": {
   "hash": "8543aeb3ed6b012f3ed36035677020b081add8a8541a0eaa4cba4b51625cb8da"
  },
  "kernelspec": {
   "display_name": "Python 3.9.7 ('base')",
   "language": "python",
   "name": "python3"
  },
  "language_info": {
   "codemirror_mode": {
    "name": "ipython",
    "version": 3
   },
   "file_extension": ".py",
   "mimetype": "text/x-python",
   "name": "python",
   "nbconvert_exporter": "python",
   "pygments_lexer": "ipython3",
   "version": "3.9.7"
  },
  "orig_nbformat": 4
 },
 "nbformat": 4,
 "nbformat_minor": 2
}
