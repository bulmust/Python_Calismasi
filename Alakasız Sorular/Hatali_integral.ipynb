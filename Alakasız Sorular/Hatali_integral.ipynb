{
 "cells": [
  {
   "cell_type": "code",
   "execution_count": 110,
   "metadata": {},
   "outputs": [],
   "source": [
    "import numpy as np\n",
    "\n",
    "def Func(x):\n",
    "    return (x**3) +(15*x**2) +28\n",
    "\n",
    "def Trapezoid(Func,x0,x2):\n",
    "    h = (x2-x0)/19\n",
    "\n",
    "    X = np.linspace(x0,x2,20)\n",
    "\n",
    "    F = Func\n",
    "\n",
    "    y0 = x0**3 + 15*x0**2 +28\n",
    "\n",
    "    y = y0\n",
    "\n",
    "    ydata = np.zeros(1)\n",
    "\n",
    "    ydata =np.append(ydata, y)\n",
    "\n",
    "    sum = 0\n",
    "\n",
    "    for i in range(len(X)-1):\n",
    "\n",
    "        sum = sum + h*(F(X[i]) + F(X[i+1]))/2\n",
    "\n",
    "    return sum\n",
    "\n",
    "#integral çizgilerinin tam sayısını bulmam gerekiyor kod çok hatalı\n",
    "\n",
    "\n",
    "\n",
    "\n",
    "\n",
    "\n",
    "\n",
    "    \n",
    "\n",
    "\n",
    "\n",
    "\n"
   ]
  },
  {
   "cell_type": "code",
   "execution_count": 109,
   "metadata": {},
   "outputs": [
    {
     "data": {
      "text/plain": [
       "3783.974591651542"
      ]
     },
     "execution_count": 109,
     "metadata": {},
     "output_type": "execute_result"
    }
   ],
   "source": [
    "Trapezoid(Func,1,7)"
   ]
  },
  {
   "cell_type": "code",
   "execution_count": null,
   "metadata": {},
   "outputs": [],
   "source": []
  }
 ],
 "metadata": {
  "interpreter": {
   "hash": "8543aeb3ed6b012f3ed36035677020b081add8a8541a0eaa4cba4b51625cb8da"
  },
  "kernelspec": {
   "display_name": "Python 3.9.7 ('base')",
   "language": "python",
   "name": "python3"
  },
  "language_info": {
   "codemirror_mode": {
    "name": "ipython",
    "version": 3
   },
   "file_extension": ".py",
   "mimetype": "text/x-python",
   "name": "python",
   "nbconvert_exporter": "python",
   "pygments_lexer": "ipython3",
   "version": "3.9.7"
  },
  "orig_nbformat": 4
 },
 "nbformat": 4,
 "nbformat_minor": 2
}
