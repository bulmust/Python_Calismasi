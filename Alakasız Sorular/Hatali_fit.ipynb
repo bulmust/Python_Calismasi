{
 "cells": [
  {
   "cell_type": "code",
   "execution_count": 21,
   "metadata": {},
   "outputs": [],
   "source": [
    "import numpy as np\n",
    "\n",
    "import matplotlib.pyplot as plt\n",
    "\n",
    "from scipy.optimize import curve_fit"
   ]
  },
  {
   "cell_type": "code",
   "execution_count": 47,
   "metadata": {},
   "outputs": [
    {
     "name": "stderr",
     "output_type": "stream",
     "text": [
      "c:\\Users\\AFET\\anaconda3\\lib\\site-packages\\scipy\\optimize\\minpack.py:833: OptimizeWarning: Covariance of the parameters could not be estimated\n",
      "  warnings.warn('Covariance of the parameters could not be estimated',\n",
      "No handles with labels found to put in legend.\n"
     ]
    },
    {
     "name": "stdout",
     "output_type": "stream",
     "text": [
      "[2.96365776e-05 1.00000000e+00]\n"
     ]
    },
    {
     "data": {
      "image/png": "[encoded data removed]",
      "text/plain": [
       "<Figure size 864x576 with 1 Axes>"
      ]
     },
     "metadata": {
      "needs_background": "light"
     },
     "output_type": "display_data"
    }
   ],
   "source": [
    "vdata = np.array([0, 2.186, 3.8, 5.09, 6.104, 6.93, 7.57, 8.07, 8.47, 8.78, 9.02, 9.23, 9.39, 9.53, 9.63, 9.71, 9.79, 9.85, 9.9, 9.93, 9.98])\n",
    "\n",
    "qdata = np.array([0, 0.0005, 0.0009, 0.0011, 0.0013, 0.0015, 0.0017, 0.0018, 0.0019, 0.00193, 0.0020, 0.00203, 0.00206, 0.0021, 0.00211, 0.00213, 0.00215, 0.00216, 0.00218, 0.00219 ,0.0022])\n",
    "\n",
    "tdata = np.array([0,5,10,15,20,25,30,35,40,45,50,55,60,65,70,75,80,85,90,95,100])\n",
    "\n",
    "def model(a,t,b):\n",
    "    return a*np.exp(1 - t**-b)\n",
    "\n",
    "popt, pcov = curve_fit(model, tdata, qdata)\n",
    "\n",
    "print(popt)\n",
    "\n",
    "plt.figure(figsize = (12, 8))\n",
    "\n",
    "plt.scatter(tdata, vdata)\n",
    "\n",
    "plt.plot(tdata, model(tdata, *popt))\n",
    "\n",
    "plt.title('Capacitor Charging Up Due Time')\n",
    "\n",
    "plt.xlabel('t')\n",
    "\n",
    "plt.ylabel('q')\n",
    "\n",
    "plt.grid()\n",
    "\n",
    "plt.legend(loc='upper right')\n",
    "\n",
    "plt.show()\n",
    "\n",
    "\n"
   ]
  },
  {
   "cell_type": "code",
   "execution_count": null,
   "metadata": {},
   "outputs": [],
   "source": []
  }
 ],
 "metadata": {
  "interpreter": {
   "hash": "8543aeb3ed6b012f3ed36035677020b081add8a8541a0eaa4cba4b51625cb8da"
  },
  "kernelspec": {
   "display_name": "Python 3.9.7 ('base')",
   "language": "python",
   "name": "python3"
  },
  "language_info": {
   "codemirror_mode": {
    "name": "ipython",
    "version": 3
   },
   "file_extension": ".py",
   "mimetype": "text/x-python",
   "name": "python",
   "nbconvert_exporter": "python",
   "pygments_lexer": "ipython3",
   "version": "3.9.7"
  },
  "orig_nbformat": 4
 },
 "nbformat": 4,
 "nbformat_minor": 2
}
